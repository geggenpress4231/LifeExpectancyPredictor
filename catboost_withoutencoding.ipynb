{
 "cells": [
  {
   "cell_type": "code",
   "execution_count": 1,
   "metadata": {},
   "outputs": [],
   "source": [
    "import pandas as pd\n",
    "import numpy as np\n",
    "import seaborn as sns\n"
   ]
  },
  {
   "cell_type": "code",
   "execution_count": 2,
   "metadata": {},
   "outputs": [],
   "source": [
    "df=pd.read_csv('../Dataset/Life Expectancy Data.csv')"
   ]
  },
  {
   "cell_type": "code",
   "execution_count": 3,
   "metadata": {},
   "outputs": [],
   "source": [
    "df.columns=df.columns.str.strip()"
   ]
  },
  {
   "cell_type": "code",
   "execution_count": 4,
   "metadata": {},
   "outputs": [],
   "source": [
    "df.drop(['thinness 5-9 years', 'Hepatitis B','GDP','Population','Total expenditure'], axis=1,inplace=True)\n"
   ]
  },
  {
   "cell_type": "code",
   "execution_count": 5,
   "metadata": {},
   "outputs": [],
   "source": [
    "\n",
    "\n",
    "# Drop rows with missing target variable values\n",
    "df.dropna(subset=['Life expectancy'], inplace=True)\n"
   ]
  },
  {
   "cell_type": "code",
   "execution_count": 6,
   "metadata": {},
   "outputs": [],
   "source": [
    "df['Adult Mortality'].fillna(df['Adult Mortality'].mean(),inplace=True)\n",
    "df['BMI'].fillna(df['BMI'].mean(),inplace=True)\n",
    "df['Diphtheria'].fillna(df['Diphtheria'].mean(),inplace=True)\n",
    "df['Polio'].fillna(df['Polio'].mean(),inplace=True)\n",
    "\n",
    "\n"
   ]
  },
  {
   "cell_type": "code",
   "execution_count": 14,
   "metadata": {},
   "outputs": [
    {
     "data": {
      "text/plain": [
       "Country                              0\n",
       "Year                                 0\n",
       "Status                               0\n",
       "Life expectancy                      0\n",
       "Adult Mortality                      0\n",
       "infant deaths                        0\n",
       "Alcohol                            193\n",
       "percentage expenditure               0\n",
       "Measles                              0\n",
       "BMI                                  0\n",
       "under-five deaths                    0\n",
       "Polio                                0\n",
       "Diphtheria                           0\n",
       "HIV/AIDS                             0\n",
       "thinness  1-19 years                32\n",
       "Income composition of resources    160\n",
       "Schooling                          160\n",
       "dtype: int64"
      ]
     },
     "execution_count": 14,
     "metadata": {},
     "output_type": "execute_result"
    }
   ],
   "source": [
    "df.isnull().sum()"
   ]
  },
  {
   "cell_type": "code",
   "execution_count": 7,
   "metadata": {},
   "outputs": [
    {
     "data": {
      "text/plain": [
       "Index(['Country', 'Year', 'Status', 'Life expectancy', 'Adult Mortality',\n",
       "       'infant deaths', 'Alcohol', 'percentage expenditure', 'Measles', 'BMI',\n",
       "       'under-five deaths', 'Polio', 'Diphtheria', 'HIV/AIDS',\n",
       "       'thinness  1-19 years', 'Income composition of resources', 'Schooling'],\n",
       "      dtype='object')"
      ]
     },
     "execution_count": 7,
     "metadata": {},
     "output_type": "execute_result"
    }
   ],
   "source": [
    "df.columns"
   ]
  },
  {
   "cell_type": "code",
   "execution_count": 7,
   "metadata": {},
   "outputs": [],
   "source": [
    "categorical_columns=[]\n",
    "numerical_columns=[]\n",
    "for i in df.columns:\n",
    "    if df[i].dtypes=='object':\n",
    "        categorical_columns.append(i)\n",
    "    else:\n",
    "        numerical_columns.append(i)\n",
    "y=df['Life expectancy']        \n",
    "numerical_columns.remove('Life expectancy')\n",
    "        \n",
    "            "
   ]
  },
  {
   "cell_type": "code",
   "execution_count": 8,
   "metadata": {},
   "outputs": [
    {
     "name": "stdout",
     "output_type": "stream",
     "text": [
      "Training data shape: (2342, 16)\n",
      "Testing data shape: (586, 16)\n"
     ]
    }
   ],
   "source": [
    "#test train split\n",
    "from sklearn.model_selection import train_test_split\n",
    "\n",
    "# Define the features and target variable\n",
    "X = df.loc[:,df.columns!='Life expectancy']\n",
    "\n",
    "\n",
    "# Split the data into training and testing sets\n",
    "X_train, X_test, y_train, y_test = train_test_split(X, y, test_size=0.2, random_state=42)\n",
    "\n",
    "# Print the shape of the training and testing sets\n",
    "print(\"Training data shape:\", X_train.shape)\n",
    "print(\"Testing data shape:\", X_test.shape)\n"
   ]
  },
  
   "source": [
    "#direct catboost\n",
    "from catboost import CatBoostRegressor\n",
    "\n",
    "# Create a CatBoostRegressor model\n",
    "cat_reg = CatBoostRegressor()\n",
    "\n",
    "# Train the model on the training set\n",
    "cat_reg.fit(X_train, y_train)\n",
    "\n",
    "# Evaluate the model on the testing set\n",
    "score = cat_reg.score(X_test, y_test)\n",
    "\n",
    "print(\"Model score: \", score)\n"
   ]
  },
  {
   "cell_type": "code",
   "execution_count": 9,
   "metadata": {},
   "outputs": [
    {
     "name": "stderr",
     "output_type": "stream",
     "text": [
      "C:\\Users\\Utsa Rabbani\\anaconda3\\lib\\site-packages\\sklearn\\utils\\deprecation.py:87: FutureWarning: Function get_feature_names is deprecated; get_feature_names is deprecated in 1.0 and will be removed in 1.2. Please use get_feature_names_out instead.\n",
      "  warnings.warn(msg, category=FutureWarning)\n"
     ]
    }
   ],
   "source": [
    "from sklearn.preprocessing import OneHotEncoder, StandardScaler\n",
    "\n",
    "# Perform one-hot encoding on the Country and Status columns\n",
    "ohe = OneHotEncoder(sparse=False, handle_unknown='ignore')\n",
    "encoded = ohe.fit_transform(df[categorical_columns])\n",
    "encoded_cols = ohe.get_feature_names(categorical_columns)\n",
    "df_encoded = pd.DataFrame(encoded, columns=encoded_cols)\n",
    "\n",
    "# Perform normalization on the remaining columns\n",
    "scaler = StandardScaler()\n",
    "normalized = scaler.fit_transform(df[numerical_columns])\n",
    "df_normalized = pd.DataFrame(normalized, columns=numerical_columns)\n",
    "\n",
    "# Concatenate the encoded and normalized columns back into a single DataFrame\n",
    "df_preprocessed = pd.concat([df_encoded, df_normalized], axis=1)\n"
   ]
  },
  {
   "cell_type": "code",
   "execution_count": 10,
   "metadata": {},
   "outputs": [
    {
     "data": {
      "text/plain": [
       "199"
      ]
     },
     "execution_count": 10,
     "metadata": {},
     "output_type": "execute_result"
    }
   ],
   "source": [
    "len(df_preprocessed.columns)"
   ]
  },
  {
   "cell_type": "code",
   "execution_count": 15,
   "metadata": {},
   "outputs": [],
   "source": [
    "df_preprocessed['Life expectancy']=y"
   ]
  },
  {
   "cell_type": "code",
   "execution_count": 11,
   "metadata": {},
   "outputs": [],
   "source": [
    "#df_preprocessed.to_csv('df_preprocessed.csv', index=False)\n"
   ]
  },
  {
   "cell_type": "code",
   "execution_count": 16,
   "metadata": {},
   "outputs": [
    {
     "data": {
      "text/plain": [
       "Index(['Country_Afghanistan', 'Country_Albania', 'Country_Algeria',\n",
       "       'Country_Angola', 'Country_Antigua and Barbuda', 'Country_Argentina',\n",
       "       'Country_Armenia', 'Country_Australia', 'Country_Austria',\n",
       "       'Country_Azerbaijan',\n",
       "       ...\n",
       "       'Measles', 'BMI', 'under-five deaths', 'Polio', 'Diphtheria',\n",
       "       'HIV/AIDS', 'thinness  1-19 years', 'Income composition of resources',\n",
       "       'Schooling', 'Life expectancy'],\n",
       "      dtype='object', length=200)"
      ]
     },
     "execution_count": 16,
     "metadata": {},
     "output_type": "execute_result"
    }
   ],
   "source": [
    "df_preprocessed.isnull().columns"
   ]
  },
  {
   "cell_type": "code",
   "execution_count": 17,
   "metadata": {},
   "outputs": [],
   "source": [
    "\n",
    "from sklearn.impute import KNNImputer\n",
    "\n",
    "# create an instance of the KNNImputer with the desired number of neighbors\n",
    "imputer = KNNImputer(n_neighbors=2)\n",
    "\n",
    "# fit the imputer to the data and transform it to fill missing values\n",
    "df_preprocessed = pd.DataFrame(imputer.fit_transform(df_preprocessed), columns=df_preprocessed.columns)\n",
    "\n",
    "# df_preprocessed now contains the imputed values and has the same columns and index as the original df dataframe\n"
   ]
  },
  {
   "cell_type": "code",
   "execution_count": 19,
   "metadata": {},
   "outputs": [
    {
     "data": {
      "text/plain": [
       "0"
      ]
     },
     "execution_count": 19,
     "metadata": {},
     "output_type": "execute_result"
    }
   ],
   "source": [
    "df_preprocessed.isnull().sum().sum()"
   ]
  },
  {
   "cell_type": "code",
   "execution_count": 20,
   "metadata": {},
   "outputs": [
    {
     "data": {
      "text/plain": [
       "(2928, 200)"
      ]
     },
     "execution_count": 20,
     "metadata": {},
     "output_type": "execute_result"
    }
   ],
   "source": [
    "df_preprocessed.shape"
   ]
  },
  {
   "cell_type": "code",
   "execution_count": 21,
   "metadata": {},
   "outputs": [],
   "source": [
    "df_preprocessed.to_csv('df_preprocessed.csv', index=False)\n"
   ]
  },
  {
   "cell_type": "code",
   "execution_count": null,
   "metadata": {},
   "outputs": [],
   "source": []
  }
 ],
 "metadata": {
  "kernelspec": {
   "display_name": "Python 3",
   "language": "python",
   "name": "python3"
  },
  "language_info": {
   "codemirror_mode": {
    "name": "ipython",
    "version": 3
   },
   "file_extension": ".py",
   "mimetype": "text/x-python",
   "name": "python",
   "nbconvert_exporter": "python",
   "pygments_lexer": "ipython3",
   "version": "3.7.6"
  }
 },
 "nbformat": 4,
 "nbformat_minor": 4
}
